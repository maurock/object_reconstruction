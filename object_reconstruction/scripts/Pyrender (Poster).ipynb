{
 "cells": [
  {
   "cell_type": "markdown",
   "id": "6d725d5f",
   "metadata": {},
   "source": [
    "# Render with pyrender"
   ]
  },
  {
   "cell_type": "code",
   "execution_count": 8,
   "id": "cb504910",
   "metadata": {},
   "outputs": [],
   "source": [
    "import pyrender\n",
    "import numpy as np\n",
    "import object_reconstruction.data.obj_pointcloud as obj_pointcloud\n",
    "import os\n",
    "import trimesh"
   ]
  },
  {
   "cell_type": "code",
   "execution_count": 33,
   "id": "67c4ba3c",
   "metadata": {},
   "outputs": [
    {
     "data": {
      "text/plain": [
       "Viewer(width=640, height=480)"
      ]
     },
     "execution_count": 33,
     "metadata": {},
     "output_type": "execute_result"
    }
   ],
   "source": [
    "obj_index = '102408'\n",
    "pointcloud_path = os.path.join(os.path.dirname(obj_pointcloud.__file__), obj_index, \"obj_pointcloud.npy\")\n",
    "pointcloud = np.load(pointcloud_path)\n",
    "\n",
    "# create point info\n",
    "sm = trimesh.creation.uv_sphere(radius=0.004)\n",
    "sm.visual.vertex_colors = [1.0, 1.0, 0.0]\n",
    "tfs = np.tile(np.eye(4), (len(pointcloud), 1, 1))\n",
    "tfs[:,:3,3] = pointcloud\n",
    "m = pyrender.Mesh.from_trimesh(sm, poses=tfs)\n",
    "\n",
    "# light\n",
    "light = pyrender.PointLight(color=[1.0, 1.0, 1.0], intensity=2.0)\n",
    "\n",
    "# scene\n",
    "scene = pyrender.Scene(ambient_light=[0.4, 0.4, 0.4])\n",
    "scene.add(m)\n",
    "scene.add(light, pose=np.eye(4))\n",
    "pyrender.Viewer(scene)"
   ]
  },
  {
   "cell_type": "code",
   "execution_count": null,
   "id": "20a79d58",
   "metadata": {},
   "outputs": [],
   "source": []
  }
 ],
 "metadata": {
  "kernelspec": {
   "display_name": "Python 3 (ipykernel)",
   "language": "python",
   "name": "python3"
  },
  "language_info": {
   "codemirror_mode": {
    "name": "ipython",
    "version": 3
   },
   "file_extension": ".py",
   "mimetype": "text/x-python",
   "name": "python",
   "nbconvert_exporter": "python",
   "pygments_lexer": "ipython3",
   "version": "3.8.13"
  }
 },
 "nbformat": 4,
 "nbformat_minor": 5
}

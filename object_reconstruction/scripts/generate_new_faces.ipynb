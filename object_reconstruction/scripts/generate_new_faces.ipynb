{
 "cells": [
  {
   "cell_type": "markdown",
   "id": "2aa22d7d",
   "metadata": {},
   "source": [
    "# Generate new faces"
   ]
  },
  {
   "cell_type": "code",
   "execution_count": 61,
   "id": "e8b745e7",
   "metadata": {},
   "outputs": [],
   "source": [
    "import numpy as np\n",
    "import object_reconstruction.data.touch_charts as touch_charts\n",
    "import os\n",
    "from object_reconstruction.utils import mesh_utils\n",
    "import torch\n",
    "import meshplot as mp\n",
    "from copy import deepcopy"
   ]
  },
  {
   "cell_type": "markdown",
   "id": "4aaf7bba",
   "metadata": {},
   "source": [
    "This script generates new faces by making overlapping vertices in the initial sphere unique."
   ]
  },
  {
   "cell_type": "code",
   "execution_count": 62,
   "id": "a80ae33a",
   "metadata": {},
   "outputs": [
    {
     "name": "stderr",
     "output_type": "stream",
     "text": [
      "/Users/ri21540/miniforge3/envs/active_touch/lib/python3.8/site-packages/pytorch3d/io/obj_io.py:530: UserWarning: No mtl file provided\n",
      "  warnings.warn(\"No mtl file provided\")\n"
     ]
    }
   ],
   "source": [
    "vision_charts_location = os.path.join(os.path.dirname(touch_charts.__file__), 'vision_charts.obj')\n",
    "initial_verts, initial_faces = mesh_utils.load_mesh_touch(vision_charts_location)\n",
    "initial_verts = initial_verts.numpy()\n",
    "initial_faces = initial_faces.numpy()"
   ]
  },
  {
   "cell_type": "code",
   "execution_count": 63,
   "id": "7ab34c5e",
   "metadata": {},
   "outputs": [],
   "source": [
    "new_faces = deepcopy(initial_faces)\n",
    "for idx1, vert in enumerate(initial_verts):\n",
    "    # collect same verts\n",
    "    verts_list = []\n",
    "    verts_list.append(idx1)\n",
    "    for idx2, compared_vert in enumerate(initial_verts[idx1+1:], idx1+1):\n",
    "        if (compared_vert == vert).all():\n",
    "            verts_list.append(idx2)            \n",
    "    if len(verts_list) > 1:\n",
    "        for i in verts_list[1:]:\n",
    "            new_faces = np.where(new_faces == i, verts_list[0], new_faces)"
   ]
  },
  {
   "cell_type": "code",
   "execution_count": 71,
   "id": "9e1fb986",
   "metadata": {},
   "outputs": [
    {
     "data": {
      "application/vnd.jupyter.widget-view+json": {
       "model_id": "4ff4bbc85e1f4089af87d18b144700c7",
       "version_major": 2,
       "version_minor": 0
      },
      "text/plain": [
       "Renderer(camera=PerspectiveCamera(children=(DirectionalLight(color='white', intensity=0.6, position=(0.0040090…"
      ]
     },
     "metadata": {},
     "output_type": "display_data"
    }
   ],
   "source": [
    "shading = {\"wireframe\":True, \"wire_width\": 0.03, \"wire_color\": \"black\", # Wireframe rendering\n",
    "           \"point_color\": \"red\", \"point_size\": 0.01 # Point properties of overlay points\n",
    "          }\n",
    "mp.plot(initial_verts, new_faces, shading=shading)\n",
    "\n",
    "path = os.path.join(os.path.dirname(touch_charts.__file__), 'new_faces.npy')\n",
    "np.save(path, new_faces)"
   ]
  },
  {
   "cell_type": "code",
   "execution_count": null,
   "id": "ca2b45de",
   "metadata": {},
   "outputs": [],
   "source": []
  }
 ],
 "metadata": {
  "kernelspec": {
   "display_name": "Python 3 (ipykernel)",
   "language": "python",
   "name": "python3"
  },
  "language_info": {
   "codemirror_mode": {
    "name": "ipython",
    "version": 3
   },
   "file_extension": ".py",
   "mimetype": "text/x-python",
   "name": "python",
   "nbconvert_exporter": "python",
   "pygments_lexer": "ipython3",
   "version": "3.8.13"
  }
 },
 "nbformat": 4,
 "nbformat_minor": 5
}
